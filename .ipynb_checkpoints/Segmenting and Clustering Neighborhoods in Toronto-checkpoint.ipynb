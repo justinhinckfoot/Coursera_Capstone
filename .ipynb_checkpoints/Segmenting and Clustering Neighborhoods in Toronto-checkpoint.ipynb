{
 "cells": [
  {
   "cell_type": "code",
   "execution_count": 104,
   "metadata": {},
   "outputs": [
    {
     "name": "stdout",
     "output_type": "stream",
     "text": [
      "                                                   Neighborhoods\n",
      "PostalCode Borough                                              \n",
      "M1B        Scarborough                           Rouge,  Malvern\n",
      "M1C        Scarborough  Highland Creek,  Rouge Hill,  Port Union\n",
      "M1E        Scarborough       Guildwood,  Morningside,  West Hill\n",
      "M1G        Scarborough                                    Woburn\n",
      "M1H        Scarborough                                 Cedarbrae\n",
      "DataFrame Shape:  (103, 1)\n"
     ]
    }
   ],
   "source": [
    "import pandas as pd\n",
    "import numpy as np\n",
    "import requests\n",
    "from bs4 import BeautifulSoup\n",
    "\n",
    "# Uses BeautifulSoup to scrap the url variable and separate the object 'table'\n",
    "url = \"https://en.wikipedia.org/wiki/List_of_postal_codes_of_Canada:_M\"\n",
    "s = requests.get(url).text\n",
    "soup = BeautifulSoup(s, 'xml')\n",
    "table = soup.find('table')\n",
    "\n",
    "# Sets up the base of the dataframe df\n",
    "df = pd.DataFrame(columns=['PostalCode','Borough','Neighborhood'])\n",
    "\n",
    "# Parses the object 'table' into the dataframe 'df'\n",
    "for tr in table.find_all('tr'):\n",
    "    row = []\n",
    "    for td in tr.find_all('td'):\n",
    "        row.append(td.text.strip())\n",
    "    if len(row)==3:\n",
    "        df.loc[len(df)] = row\n",
    "        \n",
    "# Drops any rows where the Borough is 'Not assigned'\n",
    "df = df[df['Borough'] != 'Not assigned']\n",
    "\n",
    "# Replaces the Neighborhood name with the Borough when Neighborhood is 'Not assigned'\n",
    "i = 0\n",
    "while i < len(df):\n",
    "    if df.iloc[i,2] == 'Not assigned':\n",
    "        df.iloc[i,2] = df.iloc[i,1]\n",
    "    i += 1\n",
    "\n",
    "# Collapses Neighborhoods per PostalCode down to the single record\n",
    "df = pd.DataFrame(df.groupby(['PostalCode','Borough'])['Neighborhood'].apply(lambda x: \"%s\" % ',  '.join(x)))\n",
    "df.rename(columns={'Neighborhood':'Neighborhoods'}, inplace=True)\n",
    "print(df.head())\n",
    "\n",
    "# Prints the shape of the dataframe df\n",
    "print(\"DataFrame Shape: \",df.shape)"
   ]
  }
 ],
 "metadata": {
  "kernelspec": {
   "display_name": "Python 3",
   "language": "python",
   "name": "python3"
  },
  "language_info": {
   "codemirror_mode": {
    "name": "ipython",
    "version": 3
   },
   "file_extension": ".py",
   "mimetype": "text/x-python",
   "name": "python",
   "nbconvert_exporter": "python",
   "pygments_lexer": "ipython3",
   "version": "3.7.4"
  }
 },
 "nbformat": 4,
 "nbformat_minor": 2
}
